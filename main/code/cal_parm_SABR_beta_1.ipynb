{
 "cells": [
  {
   "cell_type": "code",
   "execution_count": 4,
   "metadata": {},
   "outputs": [
    {
     "name": "stdout",
     "output_type": "stream",
     "text": [
      "alpha: 0.1582037594078576 rho: 0.12213438727498692 nu: 1.3892400012537673\n"
     ]
    }
   ],
   "source": [
    "import numpy as np\n",
    "import matplotlib.pyplot as plt\n",
    "from scipy.optimize import curve_fit\n",
    "\n",
    "\n",
    "def SABR_market_vol(K,f,t_exp,alpha,beta,nu,rho):\n",
    "    '''Given a list of strike prices and SABR parameters, returns what the SABR\n",
    "    model predicts the market volatility to be. Calculated from equations (2.17) \n",
    "    and (2.18) in Hagan, Patrick S., Deep Kumar, Andrew S. Lesniewski, and \n",
    "    Diana E. Woodward \"Managing smile risk.\" The Best of Wilmott 1 (2002): 249-296.\n",
    "    '''\n",
    "    output = np.zeros(len(K))\n",
    "    \n",
    "    for i in range(0,len(K)):\n",
    "        if K[i] == f: #ATM equation in Managing smile risk\n",
    "            part_1 = (1.0 - beta)**2.0*alpha**2.0/(24.0*f**(2.0 - 2.0*beta))\n",
    "            part_2 = rho*beta*alpha*nu/(4.0*f**(1.0 - beta))\n",
    "            part_3 = (2.0 - 3.0*rho**2)*nu**2.0/24.0\n",
    "            \n",
    "            output[i] = (alpha/f**(1 - beta))*(1 + (part_1 + part_2 + part_3)*t_exp )\n",
    "        \n",
    "        else:\n",
    "            logfK = np.log(f/K[i])\n",
    "            fkbpow = (f*K[i])**((1.0 - beta)/2.0)\n",
    "            z = nu*fkbpow*logfK/alpha\n",
    "            xz = np.log((np.sqrt(1.0 - 2.0*rho*z + z**2.0 ) + z - rho)/(1.0-rho))\n",
    "            \n",
    "            part_1 = ((1.0-beta)**2.0)*(alpha**2.0)/(24.0*fkbpow**2.0)\n",
    "            part_2 = (rho*beta*nu*alpha)/(4.0*fkbpow)\n",
    "            part_3 = (2.0-3.0*rho**2)*nu**2.0/24.0\n",
    "            part_4 = ((1.0-beta)**2)*(logfK**2)/24.0\n",
    "            part_5 = ((1.0-beta)**4)*(logfK**4)/1920.0\n",
    "            \n",
    "            output[i] = (alpha*z*(1 + (part_1 + part_2 + part_3)*t_exp ))/(fkbpow*xz*(1 + part_4 + part_5 ))\n",
    "            \n",
    "    return output\n",
    "\n",
    "def atm_sigma_to_alpha(f,t_exp,sigma_atm,beta,nu,rho):\n",
    "    '''Returns alpha given the forward price, the at-the-money volatility, the \n",
    "    time to exirpy (t_exp) and the other parameters in the SABR model by \n",
    "    solving a cubic equation for alpha, equation (2.18) in Hagan, Patrick S., \n",
    "    Deep Kumar, Andrew S. Lesniewski, and Diana E. Woodward. \n",
    "    \"Managing smile risk.\" The Best of Wilmott 1 (2002): 249-296. \n",
    "    '''\n",
    "    #The coeffceints of the polynomial we find the roots of\n",
    "    p_3 = -sigma_atm\n",
    "    p_2 =  (1 + (2-3*rho**2)*nu**2*t_exp/24)/f**(1.-beta)\n",
    "    p_1 = rho*beta*nu*t_exp/(4*f**(2-2*beta))\n",
    "    p_0 = (1-beta)**2*t_exp/(24*f**(3-3*beta))\n",
    "    coeffs = [p_0,p_1,p_2,p_3]\n",
    "    \n",
    "    r = np.roots(coeffs)    #find the roots of the cubic equation\n",
    "    \n",
    "    return r[(r.imag==0) & (r.real>=0)].real.min() \n",
    "\n",
    "def SABR_calibration(f, t_exp, sigma_atm, beta, strikes, vols,guess):\n",
    "    ''' Returns the parameters alpha, nu and rho given a parameter beta, \n",
    "    forward price, a list of market volatilities and corrsponding strike \n",
    "    spread. Instead of doing a regression in all three parameters, this method \n",
    "    calculates alpha when needed from nu and rho. Hence a regression is done \n",
    "    in only two variables.\n",
    "    '''\n",
    "    def func_to_optimize(K,nu,rho):\n",
    "        alpha = atm_sigma_to_alpha(f,t_exp,sigma_atm,beta,nu,rho)\n",
    "        return  SABR_market_vol(K,f,t_exp,alpha,beta,nu,rho)\n",
    "     \n",
    "    popt, pcov = curve_fit(func_to_optimize, strikes, vols, p0 = (guess[1],guess[2]), maxfev=10000)\n",
    "      \n",
    "    nu = popt[0]\n",
    "    rho = popt[1]\n",
    "    alpha = atm_sigma_to_alpha(f,t_exp,sigma_atm,beta,nu,rho)\n",
    "    \n",
    "    return [alpha, nu, rho]\n",
    "        \n",
    "\n",
    "\n",
    "#10Y30Y 2024\n",
    "beta = 1\n",
    "sigmas = np.array([0.4364, 0.4191, 0.41706,0.41605, 0.41619,0.41757,0.42003,0.42370,0.42847,0.43428,0.46603])\n",
    "strikes_in_bps = np.array([-200,-100,-75,-50,-25,0,25,50,75,100,200])\n",
    "t_exp = 10\n",
    "tenor = 30\n",
    "atm_sigma = 0.41757\n",
    "f = 0.23401\n",
    "guess = [0.01, 10,-0.5]\n",
    "strikes = f + strikes_in_bps*0.0001\n",
    "#Calling the SABR_calibration function defined below to return the parameters.\n",
    "alpha, nu, rho = SABR_calibration(f, t_exp, atm_sigma, beta, strikes, sigmas, guess)\n",
    "    \n",
    "print(\"alpha:\",alpha,\"rho:\",rho, \"nu:\", nu)\n",
    "\n"
   ]
  },
  {
   "cell_type": "code",
   "execution_count": 5,
   "metadata": {},
   "outputs": [
    {
     "name": "stdout",
     "output_type": "stream",
     "text": [
      "alpha: 0.1581059478666176 rho: 0.14564752039479514 nu: 1.4396371433086788\n"
     ]
    }
   ],
   "source": [
    "#10Y20Y 2024\n",
    "beta = 1\n",
    "sigmas1 = np.array([0.44983,\t0.43478,\t0.43329,\t0.43288,\t0.43360,\n",
    "                   \t0.43559,\t0.43846,\t0.44256,\t0.44772,\t0.45385,\t0.48650])\n",
    "strikes_in_bps = np.array([-200,-100,-75,-50,-25,0,25,50,75,100,200])\n",
    "t_exp = 10\n",
    "tenor = 20\n",
    "atm_sigma = 0.43559\n",
    "f = 0.251744\n",
    "guess = [0.01, 10,-0.5]\n",
    "strikes = f + strikes_in_bps*0.0001\n",
    "#Calling the SABR_calibration function defined below to return the parameters.\n",
    "alpha, nu, rho = SABR_calibration(f, t_exp, atm_sigma, beta, strikes, sigmas1, guess)\n",
    "    \n",
    "print(\"alpha:\",alpha,\"rho:\",rho, \"nu:\", nu)\n"
   ]
  },
  {
   "cell_type": "code",
   "execution_count": 8,
   "metadata": {},
   "outputs": [
    {
     "name": "stdout",
     "output_type": "stream",
     "text": [
      "alpha: 0.15985856259615347 rho: 0.1623868093393327 nu: 1.4722802470849656\n"
     ]
    }
   ],
   "source": [
    "#10Y15Y 2024\n",
    "beta = 1\n",
    "sigmas2 = np.array([0.46292,\t0.44963,\t0.44859,\t0.44862,\t0.44974,\n",
    "                    0.45247,\t0.45530,\t0.45970,\t0.46509,\t0.47143,\t0.50457])\n",
    "strikes_in_bps = np.array([-200,-100,-75,-50,-25,0,25,50,75,100,200])\n",
    "t_exp = 10\n",
    "tenor = 15\n",
    "atm_sigma = 0.45247\n",
    "f = 0.265454\n",
    "guess = [0.01, 10,-0.5]\n",
    "strikes = f + strikes_in_bps*0.0001\n",
    "#Calling the SABR_calibration function defined below to return the parameters.\n",
    "alpha, nu, rho = SABR_calibration(f, t_exp, atm_sigma, beta, strikes, sigmas2, guess)\n",
    "print(\"alpha:\",alpha,\"rho:\",rho, \"nu:\", nu)   \n"
   ]
  },
  {
   "cell_type": "code",
   "execution_count": 9,
   "metadata": {},
   "outputs": [
    {
     "name": "stdout",
     "output_type": "stream",
     "text": [
      "alpha: 0.18030958709384343 rho: 0.17623198188430858 nu: 1.367529397820228\n"
     ]
    }
   ],
   "source": [
    "#10Y12Y 2024\n",
    "beta = 1\n",
    "sigmas3 = np.array([0.47487,\t0.46379,\t0.46305,\t0.46334,\t0.46470,\n",
    "                    0.46781,\t0.47064,\t0.47517,\t0.48068,\t0.48709,\t0.52033])\n",
    "strikes_in_bps = np.array([-200,-100,-75,-50,-25,0,25,50,75,100,200])\n",
    "t_exp = 10\n",
    "tenor = 12\n",
    "atm_sigma = 0.46781\n",
    "f = 0.2276305\n",
    "guess = [0.01, 10,-0.5]\n",
    "strikes = f + strikes_in_bps*0.0001\n",
    "#Calling the SABR_calibration function defined below to return the parameters.\n",
    "alpha, nu, rho = SABR_calibration(f, t_exp, atm_sigma, beta, strikes, sigmas3, guess)\n",
    "    \n",
    "print(\"alpha:\",alpha,\"rho:\",rho, \"nu:\", nu)\n"
   ]
  },
  {
   "cell_type": "code",
   "execution_count": 10,
   "metadata": {},
   "outputs": [
    {
     "name": "stdout",
     "output_type": "stream",
     "text": [
      "alpha: 0.1647107136610676 rho: 0.17994820670459657 nu: 1.5155172178851308\n"
     ]
    }
   ],
   "source": [
    "#10Y10Y 2024\n",
    "beta = 1\n",
    "sigmas4 = np.array([0.48882,\t0.47796,\t0.47750,\t0.47806,\t0.47966,\n",
    "                    0.48315,\t0.48598,\t0.49065,\t0.49626,\t0.50275,\t0.53610])\n",
    "strikes_in_bps = np.array([-200,-100,-75,-50,-25,0,25,50,75,100,200])\n",
    "t_exp = 10\n",
    "tenor = 10\n",
    "atm_sigma = 0.48315\n",
    "f = 0.284018\n",
    "guess = [0.01, 10,-0.5]\n",
    "strikes = f + strikes_in_bps*0.0001\n",
    "#Calling the SABR_calibration function defined below to return the parameters.\n",
    "alpha, nu, rho = SABR_calibration(f, t_exp, atm_sigma, beta, strikes, sigmas4, guess)\n",
    "    \n",
    "print(\"alpha:\",alpha,\"rho:\",rho, \"nu:\", nu)\n"
   ]
  },
  {
   "cell_type": "code",
   "execution_count": 11,
   "metadata": {},
   "outputs": [
    {
     "name": "stdout",
     "output_type": "stream",
     "text": [
      "alpha: 0.1721512633148142 rho: 0.217692452102457 nu: 1.4978993417202757\n"
     ]
    }
   ],
   "source": [
    "#10Y7Y 2024\n",
    "beta = 1\n",
    "sigmas5 = np.array([0.49234,\t0.48694,\t0.48762,\t0.48916,\t0.49157,\n",
    "                    0.49531,\t0.49896,\t0.50388,\t0.50955,\t0.51594,\t0.54749])\n",
    "strikes_in_bps = np.array([-200,-100,-75,-50,-25,0,25,50,75,100,200])\n",
    "t_exp = 10\n",
    "tenor = 7\n",
    "atm_sigma = 0.49531\n",
    "f = 0.294395\n",
    "guess = [0.01, 10,-0.5]\n",
    "strikes = f + strikes_in_bps*0.0001\n",
    "#Calling the SABR_calibration function defined below to return the parameters.\n",
    "alpha, nu, rho = SABR_calibration(f, t_exp, atm_sigma, beta, strikes, sigmas5, guess)\n",
    "    \n",
    "print(\"alpha:\",alpha,\"rho:\",rho, \"nu:\", nu)\n"
   ]
  },
  {
   "cell_type": "code",
   "execution_count": 12,
   "metadata": {},
   "outputs": [
    {
     "name": "stdout",
     "output_type": "stream",
     "text": [
      "alpha: 0.17869377471892967 rho: 0.24296640919485088 nu: 1.4834331489812376\n"
     ]
    }
   ],
   "source": [
    "#10Y5Y 2024\n",
    "beta = 1\n",
    "sigmas6 = np.array([0.49781,\t0.49597,\t0.49735,\t0.49950,\t0.50241,\n",
    "                    0.50614,\t0.51043,\t0.51549,\t0.52119,\t0.52750,\t0.55792])\n",
    "strikes_in_bps = np.array([-200,-100,-75,-50,-25,0,25,50,75,100,200])\n",
    "t_exp = 10\n",
    "tenor = 5\n",
    "atm_sigma = 0.50614\n",
    "f = 0.299258\n",
    "guess = [0.01, 10,-0.5]\n",
    "strikes = f + strikes_in_bps*0.0001\n",
    "#Calling the SABR_calibration function defined below to return the parameters.\n",
    "alpha, nu, rho = SABR_calibration(f, t_exp, atm_sigma, beta, strikes, sigmas6, guess)\n",
    "    \n",
    "print(\"alpha:\",alpha,\"rho:\",rho, \"nu:\", nu)\n"
   ]
  },
  {
   "cell_type": "code",
   "execution_count": 13,
   "metadata": {},
   "outputs": [
    {
     "name": "stdout",
     "output_type": "stream",
     "text": [
      "alpha: 0.1831614144710937 rho: 0.2772599993359734 nu: 1.4979925918268875\n"
     ]
    }
   ],
   "source": [
    "#10Y3Y 2024\n",
    "beta = 1\n",
    "sigmas7 = np.array([0.50699,\t0.50806,\t0.51017,\t0.51304,\t0.51665,\n",
    "                    0.52101,\t0.52599,\t0.53166,\t0.53795,\t0.54480,\t0.57709])\n",
    "strikes_in_bps = np.array([-200,-100,-75,-50,-25,0,25,50,75,100,200])\n",
    "t_exp = 10\n",
    "tenor = 3\n",
    "atm_sigma = 0.52101\n",
    "f = 0.299622\n",
    "guess = [0.01, 10,-0.5]\n",
    "strikes = f + strikes_in_bps*0.0001\n",
    "#Calling the SABR_calibration function defined below to return the parameters.\n",
    "alpha, nu, rho = SABR_calibration(f, t_exp, atm_sigma, beta, strikes, sigmas7, guess)\n",
    "    \n",
    "print(\"alpha:\",alpha,\"rho:\",rho, \"nu:\", nu)\n"
   ]
  },
  {
   "cell_type": "code",
   "execution_count": 14,
   "metadata": {},
   "outputs": [
    {
     "name": "stdout",
     "output_type": "stream",
     "text": [
      "alpha: 0.18764888571323837 rho: 0.2947266854728685 nu: 1.501256857501689\n"
     ]
    }
   ],
   "source": [
    "#10Y2Y 2024\n",
    "beta = 1\n",
    "sigmas8 = np.array([0.51588,\t0.51864,\t0.52116,\t0.52442,\t0.52841,\n",
    "                    0.53311,\t0.53845,\t0.54444,\t0.55102,\t0.55815,\t0.59138])\n",
    "strikes_in_bps = np.array([-200,-100,-75,-50,-25,0,25,50,75,100,200])\n",
    "t_exp = 10\n",
    "tenor = 2\n",
    "atm_sigma = 0.53311\n",
    "f = 0.297602\n",
    "guess = [0.01, 10,-0.5]\n",
    "strikes = f + strikes_in_bps*0.0001\n",
    "#Calling the SABR_calibration function defined below to return the parameters.\n",
    "alpha, nu, rho = SABR_calibration(f, t_exp, atm_sigma, beta, strikes, sigmas8, guess)\n",
    "    \n",
    "print(\"alpha:\",alpha,\"rho:\",rho, \"nu:\", nu)\n",
    "\n",
    "plt.close()"
   ]
  },
  {
   "cell_type": "code",
   "execution_count": 15,
   "metadata": {},
   "outputs": [
    {
     "name": "stdout",
     "output_type": "stream",
     "text": [
      "alpha: 0.1891903170744875 rho: 0.31148575079566587 nu: 1.4997337847095888\n"
     ]
    }
   ],
   "source": [
    "#10Y1Y 2024\n",
    "beta = 1\n",
    "sigmas9 = np.array([0.51416,\t0.51819,\t0.52105,\t0.52465,\t0.52898,\n",
    "                    0.53399,\t0.53966,\t0.54596,\t0.55283,\t0.56025,\t0.59448])\n",
    "strikes_in_bps = np.array([-200,-100,-75,-50,-25,0,25,50,75,100,200])\n",
    "t_exp = 10\n",
    "tenor = 1\n",
    "atm_sigma = 0.53399\n",
    "f = 0.293838\n",
    "guess = [0.01, 10,-0.5]\n",
    "strikes = f + strikes_in_bps*0.0001\n",
    "#Calling the SABR_calibration function defined below to return the parameters.\n",
    "alpha, nu, rho = SABR_calibration(f, t_exp, atm_sigma, beta, strikes, sigmas9, guess)\n",
    "    \n",
    "print(\"alpha:\",alpha,\"rho:\",rho, \"nu:\", nu)\n"
   ]
  },
  {
   "cell_type": "code",
   "execution_count": null,
   "metadata": {},
   "outputs": [],
   "source": []
  }
 ],
 "metadata": {
  "kernelspec": {
   "display_name": "master_thesis_venv",
   "language": "python",
   "name": "python3"
  },
  "language_info": {
   "codemirror_mode": {
    "name": "ipython",
    "version": 3
   },
   "file_extension": ".py",
   "mimetype": "text/x-python",
   "name": "python",
   "nbconvert_exporter": "python",
   "pygments_lexer": "ipython3",
   "version": "3.10.13"
  }
 },
 "nbformat": 4,
 "nbformat_minor": 2
}
