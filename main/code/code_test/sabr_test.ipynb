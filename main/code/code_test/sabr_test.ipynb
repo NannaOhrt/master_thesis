{
 "cells": [
  {
   "cell_type": "code",
   "execution_count": 1,
   "metadata": {},
   "outputs": [
    {
     "ename": "ModuleNotFoundError",
     "evalue": "No module named 'quantLib'",
     "output_type": "error",
     "traceback": [
      "\u001b[0;31m---------------------------------------------------------------------------\u001b[0m",
      "\u001b[0;31mModuleNotFoundError\u001b[0m                       Traceback (most recent call last)",
      "Cell \u001b[0;32mIn[1], line 3\u001b[0m\n\u001b[1;32m      1\u001b[0m \u001b[38;5;28;01mimport\u001b[39;00m \u001b[38;5;21;01mnumpy\u001b[39;00m \u001b[38;5;28;01mas\u001b[39;00m \u001b[38;5;21;01mnp\u001b[39;00m\n\u001b[1;32m      2\u001b[0m \u001b[38;5;28;01mimport\u001b[39;00m \u001b[38;5;21;01mpandas\u001b[39;00m \u001b[38;5;28;01mas\u001b[39;00m \u001b[38;5;21;01mpd\u001b[39;00m\n\u001b[0;32m----> 3\u001b[0m \u001b[38;5;28;01mimport\u001b[39;00m \u001b[38;5;21;01mquantLib\u001b[39;00m \u001b[38;5;28;01mas\u001b[39;00m \u001b[38;5;21;01mql\u001b[39;00m\n\u001b[1;32m      4\u001b[0m \u001b[38;5;28;01mfrom\u001b[39;00m \u001b[38;5;21;01mmatplotlib\u001b[39;00m \u001b[38;5;28;01mimport\u001b[39;00m pyplot \u001b[38;5;28;01mas\u001b[39;00m plt\n\u001b[1;32m      5\u001b[0m \u001b[38;5;28;01mfrom\u001b[39;00m \u001b[38;5;21;01mscipy\u001b[39;00m \u001b[38;5;28;01mimport\u001b[39;00m optimize\n",
      "\u001b[0;31mModuleNotFoundError\u001b[0m: No module named 'quantLib'"
     ]
    }
   ],
   "source": [
    "import numpy as np\n",
    "import pandas as pd\n",
    "import quantLib as ql\n",
    "from matplotlib import pyplot as plt\n",
    "from scipy import optimize\n",
    "\n",
    "# Parameters from the post\n",
    "strikes = [-100, -50, -25, 0, 25, 50, 100, 150]\n",
    "vols = [1.047, 0.4812, 0.4327, 0.4268, 0.4148, 0.4253, 0.4322, 0.4495]\n",
    "\n",
    "fwd = 0.01076\n",
    "expiry = 0.25\n",
    "shift = 0.0110 # Shift chosen to make first strike positive\n",
    "\n",
    "# params are sigma_0, beta, vol_vol, rho\n",
    "params = [0.4, 0.6, 0.1, -0.4]\n",
    "\n",
    "# Optimise SABR least squares using python's minimize function\n",
    "def f(params):\n",
    "    alpha, beta, nu, rho = params[0], params[1], params[2], params[3]\n",
    "\n",
    "    alpha = max(alpha, 1e-8) # Avoid alpha going negative\n",
    "    beta = max(beta, 1e-8) # Avoid beta going negative\n",
    "    nu = max(nu, 1e-8) # Avoid nu going negative\n",
    "    rho = max(rho, -0.999) # Avoid rhp going < -1.0\n",
    "    rho = min(rho, 0.999) # Avoid rho going > 1.0\n",
    "\n",
    "    calc_vols = np.array([\n",
    "        ql.sabrVolatility(strike*1e-4 + shift, fwd + shift, expiry, alpha, beta, nu, rho)\n",
    "        for strike in strikes\n",
    "    ])\n",
    "\n",
    "    error = ((calc_vols - np.array(vols))**2 ).mean() **.5\n",
    "    return error\n",
    "\n",
    "cons = (\n",
    "    {'type': 'ineq', 'fun': lambda x: x[0]},\n",
    "    {'type': 'ineq', 'fun': lambda x: 0.99 - x[1]},\n",
    "    {'type': 'ineq', 'fun': lambda x: x[1]},\n",
    "    {'type': 'ineq', 'fun': lambda x: x[2]},\n",
    "    {'type': 'ineq', 'fun': lambda x: 1. - x[3]**2}\n",
    ")\n",
    "\n",
    "result = optimize.minimize(f, params, constraints=cons, options={'eps': 1e-5})\n",
    "alpha, beta, nu, rho = result['x'][0], result['x'][1], result['x'][2], result['x'][3]\n",
    "\n",
    "calc_vols = np.array([\n",
    "    ql.sabrVolatility(strike*1e-4 + shift, fwd + shift, expiry, alpha, beta, nu, rho)\n",
    "    for strike in strikes\n",
    "])\n",
    "\n",
    "results = pd.DataFrame([vols, calc_vols], columns=strikes, index=['market', 'SABR'])"
   ]
  },
  {
   "cell_type": "code",
   "execution_count": null,
   "metadata": {},
   "outputs": [],
   "source": []
  },
  {
   "cell_type": "code",
   "execution_count": null,
   "metadata": {},
   "outputs": [],
   "source": []
  },
  {
   "cell_type": "code",
   "execution_count": null,
   "metadata": {},
   "outputs": [],
   "source": []
  }
 ],
 "metadata": {
  "kernelspec": {
   "display_name": "master_thesis_venv",
   "language": "python",
   "name": "python3"
  },
  "language_info": {
   "codemirror_mode": {
    "name": "ipython",
    "version": 3
   },
   "file_extension": ".py",
   "mimetype": "text/x-python",
   "name": "python",
   "nbconvert_exporter": "python",
   "pygments_lexer": "ipython3",
   "version": "3.10.13"
  }
 },
 "nbformat": 4,
 "nbformat_minor": 2
}
